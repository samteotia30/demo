{
  "nbformat": 4,
  "nbformat_minor": 0,
  "metadata": {
    "colab": {
      "provenance": [],
      "authorship_tag": "ABX9TyOn2y7lFORrEiDtVLx/21n/",
      "include_colab_link": true
    },
    "kernelspec": {
      "name": "python3",
      "display_name": "Python 3"
    },
    "language_info": {
      "name": "python"
    }
  },
  "cells": [
    {
      "cell_type": "markdown",
      "metadata": {
        "id": "view-in-github",
        "colab_type": "text"
      },
      "source": [
        "<a href=\"https://colab.research.google.com/github/samteotia30/demo/blob/main/random%20number.ipynb\" target=\"_parent\"><img src=\"https://colab.research.google.com/assets/colab-badge.svg\" alt=\"Open In Colab\"/></a>"
      ]
    },
    {
      "cell_type": "code",
      "execution_count": 7,
      "metadata": {
        "colab": {
          "base_uri": "https://localhost:8080/"
        },
        "id": "jjhLjLcbHSS1",
        "outputId": "9cda5e09-d2d0-462a-f9b9-33b07bdca4e4"
      },
      "outputs": [
        {
          "output_type": "stream",
          "name": "stdout",
          "text": [
            "Random Numbers: [87, 95, 70, 12, 76]\n"
          ]
        }
      ],
      "source": [
        "import random\n",
        "\n",
        "#Generate 5 psuedo random numbers between 1 and 100\n",
        "\n",
        "random_numbers = [random.randint(1, 100) for _ in range(5)]\n",
        "print(\"Random Numbers:\",random_numbers)"
      ]
    },
    {
      "cell_type": "code",
      "source": [
        "#set the seed\n",
        "random.seed(42)\n",
        "\n",
        "#Generate the same sequence every time\n",
        "repeatable_numbers = [random.randint(1, 100) for _ in range(5)]\n",
        "print(\"Random Numbers:\",random_numbers)"
      ],
      "metadata": {
        "colab": {
          "base_uri": "https://localhost:8080/"
        },
        "id": "tp7gLZKRH_FZ",
        "outputId": "8248efe3-ce62-4f5d-893c-0307ed02e4fe"
      },
      "execution_count": 28,
      "outputs": [
        {
          "output_type": "stream",
          "name": "stdout",
          "text": [
            "Random Numbers: [82, 15, 4, 95, 36]\n"
          ]
        }
      ]
    }
  ]
}