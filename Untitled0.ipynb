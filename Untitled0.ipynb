{
  "nbformat": 4,
  "nbformat_minor": 0,
  "metadata": {
    "colab": {
      "provenance": [],
      "authorship_tag": "ABX9TyNuUsUMrOcRkrP5+AvqvhpB",
      "include_colab_link": true
    },
    "kernelspec": {
      "name": "python3",
      "display_name": "Python 3"
    },
    "language_info": {
      "name": "python"
    }
  },
  "cells": [
    {
      "cell_type": "markdown",
      "metadata": {
        "id": "view-in-github",
        "colab_type": "text"
      },
      "source": [
        "<a href=\"https://colab.research.google.com/github/samteotia30/demo/blob/main/Untitled0.ipynb\" target=\"_parent\"><img src=\"https://colab.research.google.com/assets/colab-badge.svg\" alt=\"Open In Colab\"/></a>"
      ]
    },
    {
      "cell_type": "code",
      "execution_count": 6,
      "metadata": {
        "colab": {
          "base_uri": "https://localhost:8080/"
        },
        "id": "l-MTpB2JqqC9",
        "outputId": "e7a66b22-bac7-437e-f5fa-72687a0cdf3f"
      },
      "outputs": [
        {
          "output_type": "stream",
          "name": "stdout",
          "text": [
            "<bound method NDFrame.head of      Item_Identifier  Item_Weight Item_Fat_Content  Item_Visibility  \\\n",
            "0              FDA15        9.300          Low Fat         0.016047   \n",
            "1              DRC01        5.920          Regular         0.019278   \n",
            "2              FDN15       17.500          Low Fat         0.016760   \n",
            "3              FDX07       19.200          Regular         0.000000   \n",
            "4              NCD19        8.930          Low Fat         0.000000   \n",
            "...              ...          ...              ...              ...   \n",
            "8518           FDF22        6.865          Low Fat         0.056783   \n",
            "8519           FDS36        8.380          Regular         0.046982   \n",
            "8520           NCJ29       10.600          Low Fat         0.035186   \n",
            "8521           FDN46        7.210          Regular         0.145221   \n",
            "8522           DRG01       14.800          Low Fat         0.044878   \n",
            "\n",
            "                  Item_Type  Item_MRP Outlet_Identifier  \\\n",
            "0                     Dairy  249.8092            OUT049   \n",
            "1               Soft Drinks   48.2692            OUT018   \n",
            "2                      Meat  141.6180            OUT049   \n",
            "3     Fruits and Vegetables  182.0950            OUT010   \n",
            "4                 Household   53.8614            OUT013   \n",
            "...                     ...       ...               ...   \n",
            "8518            Snack Foods  214.5218            OUT013   \n",
            "8519           Baking Goods  108.1570            OUT045   \n",
            "8520     Health and Hygiene   85.1224            OUT035   \n",
            "8521            Snack Foods  103.1332            OUT018   \n",
            "8522            Soft Drinks   75.4670            OUT046   \n",
            "\n",
            "      Outlet_Establishment_Year Outlet_Size Outlet_Location_Type  \\\n",
            "0                          1999      Medium               Tier 1   \n",
            "1                          2009      Medium               Tier 3   \n",
            "2                          1999      Medium               Tier 1   \n",
            "3                          1998         NaN               Tier 3   \n",
            "4                          1987        High               Tier 3   \n",
            "...                         ...         ...                  ...   \n",
            "8518                       1987        High               Tier 3   \n",
            "8519                       2002         NaN               Tier 2   \n",
            "8520                       2004       Small               Tier 2   \n",
            "8521                       2009      Medium               Tier 3   \n",
            "8522                       1997       Small               Tier 1   \n",
            "\n",
            "            Outlet_Type  Item_Outlet_Sales  \n",
            "0     Supermarket Type1          3735.1380  \n",
            "1     Supermarket Type2           443.4228  \n",
            "2     Supermarket Type1          2097.2700  \n",
            "3         Grocery Store           732.3800  \n",
            "4     Supermarket Type1           994.7052  \n",
            "...                 ...                ...  \n",
            "8518  Supermarket Type1          2778.3834  \n",
            "8519  Supermarket Type1           549.2850  \n",
            "8520  Supermarket Type1          1193.1136  \n",
            "8521  Supermarket Type2          1845.5976  \n",
            "8522  Supermarket Type1           765.6700  \n",
            "\n",
            "[8523 rows x 12 columns]>\n"
          ]
        }
      ],
      "source": [
        "import pandas as pd\n",
        "url='https://github.com/akki8087/Big-Mart-Sales/raw/refs/heads/master/Train.csv'\n",
        "df=pd.read_csv(url)\n",
        "print(df.head)\n"
      ]
    },
    {
      "cell_type": "code",
      "source": [
        "# measures of central tendancy\n",
        "mean_sale=df['Item_Outlet_Sales'].mean()\n",
        "print(mean_sale)"
      ],
      "metadata": {
        "colab": {
          "base_uri": "https://localhost:8080/"
        },
        "id": "oipN-DEfs1Jw",
        "outputId": "c53cade5-5128-41e6-a5bb-34f83d6616fd"
      },
      "execution_count": 9,
      "outputs": [
        {
          "output_type": "stream",
          "name": "stdout",
          "text": [
            "2181.288913575032\n"
          ]
        }
      ]
    },
    {
      "cell_type": "code",
      "source": [
        "# measures of central tendancy\n",
        "median_sale=df['Item_Outlet_Sales'].median()\n",
        "print(median_sale)"
      ],
      "metadata": {
        "colab": {
          "base_uri": "https://localhost:8080/"
        },
        "id": "qnQyKsdZth2e",
        "outputId": "07fc9e61-a5e6-4e6c-c19d-b309742fa864"
      },
      "execution_count": 13,
      "outputs": [
        {
          "output_type": "stream",
          "name": "stdout",
          "text": [
            "1794.331\n"
          ]
        }
      ]
    },
    {
      "cell_type": "code",
      "source": [
        "# measures of central tendancy\n",
        "mode_sale=df['Item_Outlet_Sales'].mode()\n",
        "print(mode_sale)"
      ],
      "metadata": {
        "colab": {
          "base_uri": "https://localhost:8080/"
        },
        "id": "OiMTyZPHuT1z",
        "outputId": "8e548bf9-d62c-49f9-fe71-db917c5a71ca"
      },
      "execution_count": 14,
      "outputs": [
        {
          "output_type": "stream",
          "name": "stdout",
          "text": [
            "0    958.752\n",
            "Name: Item_Outlet_Sales, dtype: float64\n"
          ]
        }
      ]
    },
    {
      "cell_type": "code",
      "source": [
        "# measure of dispersion\n",
        "#range\n",
        "range_sale=df['Item_Outlet_Sales'].max()-df['Item_Outlet_Sales'].min()\n",
        "print(range_sale)"
      ],
      "metadata": {
        "colab": {
          "base_uri": "https://localhost:8080/"
        },
        "id": "NXV2nYzSuja8",
        "outputId": "ccf84d96-4c21-4c44-8751-6b9b72949567"
      },
      "execution_count": 18,
      "outputs": [
        {
          "output_type": "stream",
          "name": "stdout",
          "text": [
            "13053.674799999999\n"
          ]
        }
      ]
    },
    {
      "cell_type": "code",
      "source": [
        "# interquartile range\n",
        "Q1=df['Item_Outlet_Sales'].quantile(0.25)\n",
        "Q3=df['Item_Outlet_Sales'].quantile(0.75)\n",
        "QR=Q3-Q1\n",
        "print(QR)"
      ],
      "metadata": {
        "colab": {
          "base_uri": "https://localhost:8080/"
        },
        "id": "_qRbq6fkvnlZ",
        "outputId": "8bb65a90-9e53-47f7-a6aa-dd3c179a8cb5"
      },
      "execution_count": 21,
      "outputs": [
        {
          "output_type": "stream",
          "name": "stdout",
          "text": [
            "2267.049\n"
          ]
        }
      ]
    },
    {
      "cell_type": "code",
      "source": [
        "#measures and skewness and kurotosis\n",
        "#variance\n",
        "skewness=df['Item_Outlet_Sales'].skew()\n",
        "print(skewness)"
      ],
      "metadata": {
        "colab": {
          "base_uri": "https://localhost:8080/"
        },
        "id": "Nz6_tKU7wSIg",
        "outputId": "bdbf6b6a-df0b-4b1a-8c5a-a5214f1dcb57"
      },
      "execution_count": 22,
      "outputs": [
        {
          "output_type": "stream",
          "name": "stdout",
          "text": [
            "1.1775306028542796\n"
          ]
        }
      ]
    },
    {
      "cell_type": "code",
      "source": [
        "#measures kurtosis\n",
        "kurtosis=df['Item_Outlet_Sales'].kurtosis()\n",
        "print(kurtosis)"
      ],
      "metadata": {
        "colab": {
          "base_uri": "https://localhost:8080/"
        },
        "id": "cd0nU-swwyV7",
        "outputId": "3397ead7-ead7-4ef1-ff32-0ca7436beafa"
      },
      "execution_count": 23,
      "outputs": [
        {
          "output_type": "stream",
          "name": "stdout",
          "text": [
            "1.6158766814287264\n"
          ]
        }
      ]
    },
    {
      "cell_type": "code",
      "source": [
        "#histogram plot\n",
        "import matplotlib.pyplot as plt\n",
        "plt.hist(df['Item_Outlet_Sales'],bins=30,color='pink',edgecolor='black')\n",
        "plt.title('Distribution of Items Outlet Sales')\n",
        "plt.xlabel('Item Outlet Sales')\n",
        "plt.ylabel('Frequency')\n",
        "plt.show()"
      ],
      "metadata": {
        "colab": {
          "base_uri": "https://localhost:8080/",
          "height": 472
        },
        "id": "r1Htii68xv7p",
        "outputId": "190070a3-4a57-423d-95a3-b201915c684b"
      },
      "execution_count": 24,
      "outputs": [
        {
          "output_type": "display_data",
          "data": {
            "text/plain": [
              "<Figure size 640x480 with 1 Axes>"
            ],
            "image/png": "[encoded data removed]"
          },
          "metadata": {}
        }
      ]
    }
  ]
}