{
  "nbformat": 4,
  "nbformat_minor": 0,
  "metadata": {
    "colab": {
      "provenance": [],
      "authorship_tag": "ABX9TyP/IhNyM9b5s+/YoIdi9aLP",
      "include_colab_link": true
    },
    "kernelspec": {
      "name": "python3",
      "display_name": "Python 3"
    },
    "language_info": {
      "name": "python"
    }
  },
  "cells": [
    {
      "cell_type": "markdown",
      "metadata": {
        "id": "view-in-github",
        "colab_type": "text"
      },
      "source": [
        "<a href=\"https://colab.research.google.com/github/samteotia30/demo/blob/main/t%2Cz-test.ipynb\" target=\"_parent\"><img src=\"https://colab.research.google.com/assets/colab-badge.svg\" alt=\"Open In Colab\"/></a>"
      ]
    },
    {
      "cell_type": "code",
      "execution_count": 5,
      "metadata": {
        "colab": {
          "base_uri": "https://localhost:8080/"
        },
        "id": "9h6tbq1D9H1j",
        "outputId": "53e272af-44e1-4657-df08-309f67466f25"
      },
      "outputs": [
        {
          "output_type": "stream",
          "name": "stdout",
          "text": [
            "Z-score: -2.5\n",
            "P-value: 0.006209665325776159\n",
            "Reject the null hypothesis.The average weight of the ppopulation is significantly different from 400 grams.\n"
          ]
        }
      ],
      "source": [
        "import numpy as np\n",
        "from scipy import stats\n",
        "\n",
        "#given data\n",
        "population_mean = 400 #claimed mean weight\n",
        "population_std = 8 # known standard deviation\n",
        "sample_size = 100 #sample size\n",
        "sample_mean = 398 #sample mean\n",
        "\n",
        "#calculate the z-score\n",
        "z_score = (sample_mean - population_mean) / (population_std / np.sqrt(sample_size))\n",
        "\n",
        "#calculate the p-value for a two-tailed test\n",
        "p_value = 1 - stats.norm.cdf(np.abs(z_score))\n",
        "\n",
        "#print the result\n",
        "print(f\"Z-score: {z_score}\")\n",
        "print(f\"P-value: {p_value}\")\n",
        "\n",
        "#conclusion\n",
        "alpha = 0.05 #significance level\n",
        "if p_value<alpha:\n",
        "    print(\"Reject the null hypothesis.The average weight of the ppopulation is significantly different from 400 grams.\")\n",
        "else:\n",
        "    print(\"Fail to reject the null hypothesis. There is no significant difference in the average weight of the population form 400 grams.\")"
      ]
    },
    {
      "cell_type": "code",
      "source": [
        "from scipy import stats\n",
        "import numpy as np # Added missing import\n",
        "\n",
        "#given data\n",
        "population_mean = 50 #claimed mean sugar content\n",
        "population_std = 5 # sample standard deviation\n",
        "sample_size = 15 #sample size\n",
        "sample_mean = 48 # observed sample mean\n",
        "\n",
        "# generate a random sample close to the standard sample mean\n",
        "np.random.seed(0)\n",
        "sample = np.random.normal(loc=sample_mean, scale=population_std, size=sample_size)\n",
        "\n",
        "#perfor the one sample t-test\n",
        "t_statistic, p_value = stats.ttest_1samp(sample, population_mean)\n",
        "\n",
        "#print the results\n",
        "print(f\"T-statistic: {t_statistic}\")\n",
        "print(f\"P-value: {p_value}\")\n",
        "\n",
        "#conclusion\n",
        "alpha = 0.05 #significance level\n",
        "if p_value<alpha:\n",
        "    print(\"Reject the null hypothesis. The average sugar content of the population is significantly different from 50 grams.\")\n",
        "else: # Added else statement here to correct the syntax\n",
        "    print(\"Fail to reject the null hypothesis. There is no significant difference in the average sugar content of the population from 50 grams.\")"
      ],
      "metadata": {
        "colab": {
          "base_uri": "https://localhost:8080/"
        },
        "id": "cg8d6dksDbTy",
        "outputId": "d25cde1b-fb26-4fce-af6f-2bee2a15f9ce"
      },
      "execution_count": 8,
      "outputs": [
        {
          "output_type": "stream",
          "name": "stdout",
          "text": [
            "T-statistic: 1.274699248751995\n",
            "P-value: 0.22316646747711905\n",
            "Fail to reject the null hypothesis. There is no significant difference in the average sugar content of the population from 50 grams.\n"
          ]
        }
      ]
    }
  ]
}